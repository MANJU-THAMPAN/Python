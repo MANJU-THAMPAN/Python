{
 "cells": [
  {
   "cell_type": "code",
   "execution_count": 1,
   "metadata": {},
   "outputs": [
    {
     "name": "stdout",
     "output_type": "stream",
     "text": [
      "The word 'pet' appears 8 times in the paragraph.\n"
     ]
    }
   ],
   "source": [
    "def count_word_frequency(paragraph, word):\n",
    "    words = paragraph.lower().split()\n",
    "    return words.count(word.lower())\n",
    "\n",
    "paragraph = \"Hello, my name is Manju Thampan. I am passionate about the domain of Pet Shop Management System. \" \\\n",
    "            \"I am a student with register number 2347236, currently pursuing my studies in the year 2023. \" \\\n",
    "            \"My interest is in Pet Shop Management System.. \" \\\n",
    "            \"Pet shop Management System is a platform that allows the different pet shop owners or managers to post and publish their pet and other products on their pet shop. The platform is an ecommerce website specifically intended for pets, pet shop services, pet shop accessories and other products.\"\\\n",
    "\n",
    "\n",
    "            \n",
    "\n",
    "word_to_find = input(\"Enter the word to find its frequency: \")\n",
    "\n",
    "frequency = count_word_frequency(paragraph, word_to_find)\n",
    "print(f\"The word '{word_to_find}' appears {frequency} times in the paragraph.\")\n"
   ]
  },
  {
   "cell_type": "code",
   "execution_count": 2,
   "metadata": {},
   "outputs": [
    {
     "name": "stdout",
     "output_type": "stream",
     "text": [
      "Number of alphabets: 71\n",
      "Number of numerals: 7\n",
      "Number of special symbols: 26\n"
     ]
    }
   ],
   "source": [
    "def count_symbols(paragraph):\n",
    "    num_alpha = 0\n",
    "    num_numerals = 0\n",
    "    num_special = 0\n",
    "\n",
    "    for char in paragraph:\n",
    "        if char.isalpha():\n",
    "            num_alpha += 1\n",
    "        elif char.isdigit():\n",
    "            num_numerals += 1\n",
    "        else:\n",
    "            num_special += 1\n",
    "\n",
    "    return num_alpha, num_numerals, num_special\n",
    "\n",
    "def main():\n",
    "    paragraph = \"\"\"\n",
    "    My name is Manju Thampan.My register number is 2347236.My domain is Pet Shop Management System\n",
    "    \"\"\"\n",
    "\n",
    "    num_alpha, num_numerals, num_special = count_symbols(paragraph)\n",
    "\n",
    "    print(f\"Number of alphabets: {num_alpha}\")\n",
    "    print(f\"Number of numerals: {num_numerals}\")\n",
    "    print(f\"Number of special symbols: {num_special}\")\n",
    "\n",
    "main()"
   ]
  },
  {
   "cell_type": "code",
   "execution_count": 3,
   "metadata": {},
   "outputs": [
    {
     "name": "stdout",
     "output_type": "stream",
     "text": [
      "djkfhsj\n",
      "halkjdhfl\n",
      "My - string\n",
      "name - string\n",
      "is - string\n",
      "\"Manju - string\n",
      "Thampan\" - string\n",
      "and - string\n",
      "my - string\n",
      "registration - string\n",
      "number - string\n",
      "is - string\n",
      "2347236. - int\n",
      "I - string\n",
      "have - string\n",
      "studied - string\n",
      "bca - string\n",
      "degree. - string\n",
      "My - string\n",
      "percentage - string\n",
      "is - string\n",
      "89.3 - float\n",
      "Pet - string\n",
      "Shop - string\n",
      "Management - string\n",
      "System - string\n",
      "is - string\n",
      "my - string\n",
      "Domain - string\n",
      ".Pet - string\n",
      "shop - string\n",
      "Management - string\n",
      "System - string\n",
      "is - string\n",
      "a - string\n",
      "platform - string\n",
      "that - string\n",
      "allows - string\n",
      "the - string\n",
      "different - string\n",
      "pet - string\n",
      "shop - string\n",
      "owners - string\n",
      "or - string\n",
      "managers - string\n",
      "to - string\n",
      "post - string\n",
      "and - string\n",
      "publish - string\n",
      "their - string\n",
      "pet - string\n",
      "and - string\n",
      "other - string\n",
      "products - string\n",
      "on - string\n",
      "their - string\n",
      "pet - string\n",
      "shop. - string\n",
      "The - string\n",
      "platform - string\n",
      "is - string\n",
      "an - string\n",
      "ecommerce - string\n",
      "website - string\n",
      "specifically - string\n",
      "intended - string\n",
      "for - string\n",
      "pets, - string\n",
      "pet - string\n",
      "shop - string\n",
      "services, - string\n",
      "pet - string\n",
      "shop - string\n",
      "accessories - string\n",
      "and - string\n",
      "other - string\n",
      "products - string\n"
     ]
    }
   ],
   "source": [
    "print(\"djkfhsj\")\n",
    "def classify_element(element):\n",
    "    try:\n",
    "        if \".\" in element:\n",
    "            float(element)\n",
    "            return \"float\"\n",
    "        else:\n",
    "            int(element)\n",
    "            return \"int\"\n",
    "    except ValueError:\n",
    "        return \"string\"\n",
    "\n",
    "def main():\n",
    "    print(\"halkjdhfl\")\n",
    "    paragraph = \"\"\"\n",
    "    My name is \"Manju Thampan\" and my registration number is 2347236.\n",
    "    I have studied bca degree. My percentage is 89.3\n",
    "\n",
    "    Pet Shop Management System is my Domain .Pet shop Management System is a platform that allows the different pet shop owners or managers to post and publish their pet and other products on their pet shop. The platform is an ecommerce website specifically intended for pets, pet shop services, pet shop accessories and other products\n",
    "\n",
    "\n",
    "    \"\"\"\n",
    "\n",
    "    elements = paragraph.split()\n",
    "\n",
    "    for element in elements:\n",
    "        data_type = classify_element(element.strip('\\'\".,'))\n",
    "        print(f\"{element} - {data_type}\")\n",
    "\n",
    "if __name__ == \"__main__\":\n",
    "    main()"
   ]
  },
  {
   "cell_type": "code",
   "execution_count": 4,
   "metadata": {},
   "outputs": [
    {
     "name": "stdout",
     "output_type": "stream",
     "text": [
      "Original set: {'Hello', True, 3.14, 42, (1, 2, 3)}\n",
      "Popped element: Hello\n",
      "Set after pop: {True, 3.14, 42, (1, 2, 3)}\n",
      "Set after clear: set()\n",
      "Set after discard: {'Hello', True, 42, (1, 2, 3)}\n"
     ]
    }
   ],
   "source": [
    "def set_operations_example():\n",
    "    \n",
    "    mixed_set = {42, 3.14, \"Hello\", True, (1, 2, 3)}\n",
    "\n",
    "    print(\"Original set:\", mixed_set)\n",
    "\n",
    "    # Using pop() to remove and return an arbitrary element\n",
    "    popped_element = mixed_set.pop()\n",
    "    print(\"Popped element:\", popped_element)\n",
    "    print(\"Set after pop:\", mixed_set)\n",
    "\n",
    "    # Using clear() to remove all elements\n",
    "    mixed_set.clear()\n",
    "    print(\"Set after clear:\", mixed_set)\n",
    "\n",
    "    # Repopulating the set\n",
    "    mixed_set = {42, 3.14, \"Hello\", True, (1, 2, 3)}\n",
    "\n",
    "    # Using discard() to remove a specific element\n",
    "    mixed_set.discard(3.14)\n",
    "    print(\"Set after discard:\", mixed_set)\n",
    "\n",
    "    # Using del to completely delete the set\n",
    "    del mixed_set\n",
    "    # Uncommenting the following line would result in an error since the set is deleted\n",
    "    # print(\"Set after del:\", mixed_set)\n",
    "\n",
    "# Call the function to demonstrate set operations\n",
    "set_operations_example()\n"
   ]
  },
  {
   "cell_type": "code",
   "execution_count": 5,
   "metadata": {},
   "outputs": [
    {
     "name": "stdout",
     "output_type": "stream",
     "text": [
      "Original set: {'Machine Learning', 'Chatbots', 'Artificial Intelligence', 'Knowledge Representation'}\n",
      "Sorted set (descending): ['Machine Learning', 'Knowledge Representation', 'Chatbots', 'Artificial Intelligence']\n"
     ]
    }
   ],
   "source": [
    "def sort_set_descending(input_set):\n",
    "   \n",
    "    return sorted(input_set, reverse=True)\n",
    "\n",
    "# Example set with string attributes from my domain\n",
    "domain_strings = { \"Artificial Intelligence\", \"Machine Learning\", \"Chatbots\", \"Knowledge Representation\"}\n",
    "\n",
    "# Sorting the set in descending order\n",
    "sorted_set = sort_set_descending(domain_strings)\n",
    "\n",
    "print(\"Original set:\", domain_strings)\n",
    "print(\"Sorted set (descending):\", sorted_set)\n"
   ]
  },
  {
   "cell_type": "code",
   "execution_count": 6,
   "metadata": {},
   "outputs": [
    {
     "name": "stdout",
     "output_type": "stream",
     "text": [
      "Original tuple: ('Natural Language Processing', 'Chatbots', 'Sentiment Analysis')\n",
      "Unpacked variables:\n",
      "NLP: Natural Language Processing\n",
      "Chatbots: Chatbots\n",
      "Sentiment Analysis: Sentiment Analysis\n"
     ]
    }
   ],
   "source": [
    "def tuple_packing_unpacking():\n",
    "   \n",
    "    # Tuple packing - combining attributes into a tuple\n",
    "    language_tech_tuple = (\"Natural Language Processing\", \"Chatbots\", \"Sentiment Analysis\")\n",
    "\n",
    "    # Tuple unpacking - assigning tuple elements to individual variables\n",
    "    nlp, chatbots, sentiment_analysis = language_tech_tuple\n",
    "\n",
    "    # Display the original tuple and the unpacked variables\n",
    "    print(\"Original tuple:\", language_tech_tuple)\n",
    "    print(\"Unpacked variables:\")\n",
    "    print(\"NLP:\", nlp)\n",
    "    print(\"Chatbots:\", chatbots)\n",
    "    print(\"Sentiment Analysis:\", sentiment_analysis)\n",
    "\n",
    "# Call the function to demonstrate tuple packing and unpacking\n",
    "tuple_packing_unpacking()\n"
   ]
  },
  {
   "cell_type": "code",
   "execution_count": 7,
   "metadata": {},
   "outputs": [
    {
     "name": "stdout",
     "output_type": "stream",
     "text": [
      "Count of 'e' = 3\n"
     ]
    }
   ],
   "source": [
    "def count_character(domain_name, target_character):\n",
    "    \n",
    "    char_count = domain_name.count(target_character)\n",
    "    return char_count\n",
    "\n",
    "# Get the domain name from the user\n",
    "domain_name = input(\"Enter your domain name as characters: \")\n",
    "\n",
    "# Get the target character to count\n",
    "target_character = input(\"Enter the character to count: \")\n",
    "\n",
    "# Call the function to count and print the result\n",
    "character_count = count_character(domain_name, target_character)\n",
    "print(f\"Count of '{target_character}' = {character_count}\")\n"
   ]
  },
  {
   "cell_type": "code",
   "execution_count": 8,
   "metadata": {},
   "outputs": [
    {
     "name": "stdout",
     "output_type": "stream",
     "text": [
      "Original string: petshopmanagement\n",
      "Positive slicing:\n",
      "1st to 5th characters: petsh\n",
      "2nd to last characters: etshopmanagement\n",
      "Every second character: pthpaaeet\n",
      "Negative indexing:\n",
      "Last character: t\n",
      "Last 3 characters: ent\n",
      "3rd to last character: e\n",
      "Slicing with negative indexing:\n",
      "From 2nd to 4th characters from the end: men\n",
      "From 2nd to last character from the end: nt\n"
     ]
    }
   ],
   "source": [
    "def slicing_and_negative_indexing(input_string):\n",
    "    \n",
    "    # Original string\n",
    "    print(\"Original string:\", input_string)\n",
    "\n",
    "    # Positive slicing\n",
    "    print(\"Positive slicing:\")\n",
    "    print(\"1st to 5th characters:\", input_string[0:5])\n",
    "    print(\"2nd to last characters:\", input_string[1:])\n",
    "    print(\"Every second character:\", input_string[::2])\n",
    "    \n",
    "    # Negative indexing\n",
    "    print(\"Negative indexing:\")\n",
    "    print(\"Last character:\", input_string[-1])\n",
    "    print(\"Last 3 characters:\", input_string[-3:])\n",
    "    print(\"3rd to last character:\", input_string[-3])\n",
    "    \n",
    "    # Slicing with negative indexing\n",
    "    print(\"Slicing with negative indexing:\")\n",
    "    print(\"From 2nd to 4th characters from the end:\", input_string[-4:-1])\n",
    "    print(\"From 2nd to last character from the end:\", input_string[-2:])\n",
    "\n",
    "# Example input string\n",
    "domain_name = \"petshopmanagement\"\n",
    "\n",
    "# Call the function to demonstrate slicing and negative indexing\n",
    "slicing_and_negative_indexing(domain_name)\n"
   ]
  }
 ],
 "metadata": {
  "kernelspec": {
   "display_name": "Python 3",
   "language": "python",
   "name": "python3"
  },
  "language_info": {
   "codemirror_mode": {
    "name": "ipython",
    "version": 3
   },
   "file_extension": ".py",
   "mimetype": "text/x-python",
   "name": "python",
   "nbconvert_exporter": "python",
   "pygments_lexer": "ipython3",
   "version": "3.10.11"
  },
  "orig_nbformat": 4
 },
 "nbformat": 4,
 "nbformat_minor": 2
}
