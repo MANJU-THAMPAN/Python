{
 "cells": [
  {
   "cell_type": "code",
   "execution_count": 1,
   "metadata": {},
   "outputs": [
    {
     "name": "stdout",
     "output_type": "stream",
     "text": [
      "Welcome to pet shop management System\n",
      "You can purchase various cat products from this online store\n"
     ]
    }
   ],
   "source": [
    "#Program to demonstrate inheritence concepts\n",
    "#Multiple Inheritance\n",
    "\n",
    "class Pet:\n",
    "    def Pet_info(self):\n",
    "        print(\"Welcome to pet shop management System\")\n",
    "\n",
    "class Cats:\n",
    "    def Cats_info(self):\n",
    "        print(\"You can purchase various cat products from this online store\")\n",
    "\n",
    "class ManagementSystem(Pet, Cats):\n",
    "    pass\n",
    "\n",
    "# create an object of Bat class\n",
    "b1 = ManagementSystem()\n",
    "\n",
    "b1.Pet_info()\n",
    "b1.Cats_info()"
   ]
  },
  {
   "cell_type": "code",
   "execution_count": 2,
   "metadata": {},
   "outputs": [
    {
     "name": "stdout",
     "output_type": "stream",
     "text": [
      "Pet Shop Mangement System consists of various pet categories and pet products.\n",
      "This session is related to cat products\n",
      "Persian cat breed comes under Cat category\n"
     ]
    }
   ],
   "source": [
    "#Multilevel Inheritence\n",
    "class PetShopManagementSystem:\n",
    "\n",
    "    def pet_method(self):\n",
    "        print(\"Pet Shop Mangement System consists of various pet categories and pet products.\")\n",
    "\n",
    "# define class that derive from SuperClass\n",
    "class Cats(PetShopManagementSystem):\n",
    "    def Cats_method(self):\n",
    "        print(\"This session is related to cat products\")\n",
    "\n",
    "# define class that derive from DerivedClass1\n",
    "class Persian_Cat(Cats):\n",
    "\n",
    "    def Persian_Cat(self):\n",
    "        print(\"Persian cat breed comes under Cat category\")\n",
    "\n",
    "# create an object of DerivedClass2\n",
    "d2 = Persian_Cat()\n",
    "\n",
    "d2.pet_method()  \n",
    "\n",
    "d2.Cats_method()  \n",
    "\n",
    "d2.Persian_Cat()"
   ]
  },
  {
   "cell_type": "code",
   "execution_count": 4,
   "metadata": {},
   "outputs": [
    {
     "name": "stdout",
     "output_type": "stream",
     "text": [
      "Pet Shop management System.\n",
      "This session includes Cat products.\n",
      "This session includes Dog products.\n",
      "Pet Shop management System.\n"
     ]
    }
   ],
   "source": [
    "#Hierarchial Inheritence\n",
    "\n",
    "\n",
    "class PetShopManagementSystem:\n",
    "    def Pet(self):\n",
    "        print(\"Pet Shop management System.\")\n",
    " \n",
    "\n",
    " \n",
    " \n",
    "class Cat(PetShopManagementSystem):\n",
    "    def Cat(self):\n",
    "        print(\"This session includes Cat products.\")\n",
    "\n",
    " \n",
    " \n",
    "class Dog(PetShopManagementSystem):\n",
    "    def Dog(self):\n",
    "        print(\"This session includes Dog products.\")\n",
    " \n",
    "object1 = Cat()\n",
    "object2 = Dog()\n",
    "object1.Pet()\n",
    "object1.Cat()\n",
    "object2.Dog()\n",
    "object2.Pet()\n",
    "\n",
    "\n"
   ]
  }
 ],
 "metadata": {
  "kernelspec": {
   "display_name": "Python 3",
   "language": "python",
   "name": "python3"
  },
  "language_info": {
   "codemirror_mode": {
    "name": "ipython",
    "version": 3
   },
   "file_extension": ".py",
   "mimetype": "text/x-python",
   "name": "python",
   "nbconvert_exporter": "python",
   "pygments_lexer": "ipython3",
   "version": "3.10.11"
  },
  "orig_nbformat": 4
 },
 "nbformat": 4,
 "nbformat_minor": 2
}
