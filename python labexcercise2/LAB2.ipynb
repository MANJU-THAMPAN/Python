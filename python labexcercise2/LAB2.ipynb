{
 "cells": [
  {
   "cell_type": "code",
   "execution_count": 1,
   "metadata": {},
   "outputs": [
    {
     "name": "stdout",
     "output_type": "stream",
     "text": [
      "My List: ['PetID', ['Description'], 'PetCategory', 45, {'Petname': 'Buggy'}, {'Age', 'Petproducts', 'Name'}, ('Petcolour', 'Pet type', 'Petprice')]\n"
     ]
    }
   ],
   "source": [
    "# Create a LIST with your domain attributes, insert the elements using the append (), insert(), extend().\n",
    "\n",
    "my_list = []\n",
    "\n",
    "my_list.append(\"PetID\")\n",
    "my_list.append([\"Description\"])\n",
    "\n",
    "my_list.insert(2, \"PetCategory\")\n",
    "\n",
    "ID = [45]\n",
    "my_list.extend(ID)\n",
    "\n",
    "Name= ({\"Petname\": \"Buggy\"})\n",
    "my_list.append(Name)\n",
    "\n",
    "Details = ({\"Name\", \"Age\",\"Petproducts\" })\n",
    "my_list.append(Details)\n",
    "\n",
    "my_list.append((\"Petcolour\", \"Pet type\", \"Petprice\"))\n",
    "\n",
    "\n",
    "print(\"My List:\", my_list)\n"
   ]
  },
  {
   "cell_type": "code",
   "execution_count": 2,
   "metadata": {},
   "outputs": [
    {
     "name": "stdout",
     "output_type": "stream",
     "text": [
      "After Swapping :  [75, 45, 55, 65, 35]\n"
     ]
    }
   ],
   "source": [
    "# Write a program to swap the first and last elements in a list\n",
    "\n",
    "my_list = [35,45,55,65,75]\n",
    "\n",
    "def swap_first_last(last):\n",
    " \n",
    "  first = last[0]\n",
    "  last[0] = last[-1]\n",
    "  last[-1] = first\n",
    " \n",
    "  return last\n",
    "\n",
    "print(\"After Swapping : \",swap_first_last(my_list))\n"
   ]
  },
  {
   "cell_type": "code",
   "execution_count": 3,
   "metadata": {},
   "outputs": [
    {
     "name": "stdout",
     "output_type": "stream",
     "text": [
      "The Sum is :  275\n"
     ]
    }
   ],
   "source": [
    "# Write a program to find the sum of the digits in a list\n",
    "\n",
    "def listSum(numlist):\n",
    "    sum=0\n",
    "    for singleElement in numlist:\n",
    "        sum+=singleElement\n",
    "    print(\"The Sum is : \",sum)\n",
    "\n",
    "\n",
    "listSum(my_list)\n"
   ]
  },
  {
   "cell_type": "code",
   "execution_count": 5,
   "metadata": {},
   "outputs": [
    {
     "name": "stdout",
     "output_type": "stream",
     "text": [
      "The Smallest is :\n",
      "35\n"
     ]
    }
   ],
   "source": [
    "# Write a program to find the smallest element in a list\n",
    "\n",
    "def min_element(lst):\n",
    "  minimum = lst[0]\n",
    "  for num in lst[1:]:\n",
    "    if num < minimum:\n",
    "      minimum = num\n",
    "  return minimum\n",
    "\n",
    "print(\"The Smallest is :\")\n",
    "print(min_element(my_list)) "
   ]
  },
  {
   "cell_type": "code",
   "execution_count": 9,
   "metadata": {},
   "outputs": [
    {
     "name": "stdout",
     "output_type": "stream",
     "text": [
      "{'a': 3, 'b': 4, 'c': 2, 'k': 6, 'm': 10, 'p': 16, 'q': 5, 'r': 18, 'z': 22}\n"
     ]
    }
   ],
   "source": [
    "# Sort the dictionary in ascending order based on the key of the dictionary\n",
    "\n",
    "mydict={'a': 3, 'b': 4, 'c': 2,\n",
    "'k': 6, 'm': 10, 'z': 22,\n",
    "'p': 16, 'q': 5, 'r': 18}\n",
    "\n",
    "keys= list(mydict.keys())\n",
    "keys.sort()\n",
    "# new_dict= {key:mydict[key] for key in keys}\n",
    "new_dict = dict(sorted(mydict.items(),key=lambda item : item[0]))\n",
    "print(new_dict)\n"
   ]
  },
  {
   "cell_type": "code",
   "execution_count": 10,
   "metadata": {},
   "outputs": [
    {
     "name": "stdout",
     "output_type": "stream",
     "text": [
      "dict_items([('a', 3), ('b', 4), ('c', 2), ('k', 6), ('m', 10), ('z', 22), ('p', 16), ('q', 5), ('r', 18)])\n",
      "3\n",
      "4\n",
      "2\n",
      "6\n",
      "10\n",
      "22\n",
      "16\n",
      "5\n",
      "18\n",
      "Sum :  86\n"
     ]
    }
   ],
   "source": [
    "# Find the sum of all the values in the dictionary\n",
    "\n",
    "sum=0\n",
    "print(mydict.items())\n",
    "for key,val in mydict.items():\n",
    "    sum+=val\n",
    "    print(val)\n",
    "print(\"Sum : \",sum)\n",
    "    "
   ]
  },
  {
   "cell_type": "code",
   "execution_count": 11,
   "metadata": {},
   "outputs": [
    {
     "name": "stdout",
     "output_type": "stream",
     "text": [
      "\n",
      "{'z': 22, 'r': 18, 'p': 16, 'm': 10, 'k': 6, 'q': 5, 'b': 4, 'a': 3, 'c': 2}\n"
     ]
    }
   ],
   "source": [
    "# Write a Python code to demonstrate the sorting in descending order of values with lambda function\n",
    "\n",
    "\n",
    "mydict={'a': 3, 'b': 4, 'c': 2,\n",
    "'k': 6, 'm': 10, 'z': 22,\n",
    "'p': 16, 'q': 5, 'r': 18}\n",
    "\n",
    "def sort_by_value_desc(d):\n",
    "  # Create a list of tuples from the dictionary items\n",
    "  items = list(d.items())\n",
    "  # Sort the list by the second element of each tuple (the value) in reverse order\n",
    "  items.sort(key=lambda x: x[1], reverse=True)\n",
    "  # Return a new dictionary from the sorted list\n",
    "  return dict(items)\n",
    "\n",
    "print()\n",
    "print(sort_by_value_desc(mydict)) \n",
    "\n"
   ]
  }
 ],
 "metadata": {
  "kernelspec": {
   "display_name": "Python 3",
   "language": "python",
   "name": "python3"
  },
  "language_info": {
   "codemirror_mode": {
    "name": "ipython",
    "version": 3
   },
   "file_extension": ".py",
   "mimetype": "text/x-python",
   "name": "python",
   "nbconvert_exporter": "python",
   "pygments_lexer": "ipython3",
   "version": "3.10.11"
  },
  "orig_nbformat": 4
 },
 "nbformat": 4,
 "nbformat_minor": 2
}
