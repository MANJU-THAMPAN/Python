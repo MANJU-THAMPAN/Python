{
 "cells": [
  {
   "cell_type": "code",
   "execution_count": 5,
   "metadata": {},
   "outputs": [
    {
     "name": "stdout",
     "output_type": "stream",
     "text": [
      "{'name': 'Manju', 'Domain_name': 'PetShopManagement', 'Regno': '2347236'}\n"
     ]
    }
   ],
   "source": [
    "'''Write a function in Python with a string such that it accepts a parameter- “stringsplit”. \n",
    "This encoded string will contain your name, domain name and register number.\n",
    " You can separate the values in the string by any number of underscores.\n",
    "[The string should not contain any other underscore symbols in your name, domain name and register number].'''\n",
    "\n",
    "\n",
    "def decode_string(stringsplit):\n",
    "    parts = stringsplit.split('_')\n",
    "    \n",
    "    # Remove empty parts due to consecutive underscores\n",
    "    parts = [part.strip() for part in parts if part.strip()]\n",
    "    \n",
    "    if len(parts) == 3:\n",
    "        return {\n",
    "            \"name\": parts[0],\n",
    "            \"Domain_name\": parts[1],\n",
    "            \"Regno\": parts[2]\n",
    "        }\n",
    "    else:\n",
    "        return None\n",
    "\n",
    "# Example input\n",
    "encoded_string = \"Manju_PetShopManagement_2347236\"\n",
    "decoded_dict = decode_string(encoded_string)\n",
    "print(decoded_dict)\n"
   ]
  }
 ],
 "metadata": {
  "kernelspec": {
   "display_name": "Python 3",
   "language": "python",
   "name": "python3"
  },
  "language_info": {
   "codemirror_mode": {
    "name": "ipython",
    "version": 3
   },
   "file_extension": ".py",
   "mimetype": "text/x-python",
   "name": "python",
   "nbconvert_exporter": "python",
   "pygments_lexer": "ipython3",
   "version": "3.10.11"
  },
  "orig_nbformat": 4
 },
 "nbformat": 4,
 "nbformat_minor": 2
}
