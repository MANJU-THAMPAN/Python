{
 "cells": [
  {
   "cell_type": "code",
   "execution_count": 7,
   "metadata": {},
   "outputs": [
    {
     "name": "stdout",
     "output_type": "stream",
     "text": [
      "Matrix 1:\n",
      "[[0.8606337  0.607812   0.65018691]\n",
      " [0.16778852 0.12707266 0.09898154]\n",
      " [0.26363556 0.46498528 0.26851237]]\n",
      "Matrix 2:\n",
      "[[0.27110988 0.38274271 0.68339739]\n",
      " [0.08024701 0.72453999 0.9462554 ]\n",
      " [0.00853458 0.66922299 0.49427847]]\n",
      "Product Result:\n",
      "2.362663527421224e-05\n",
      "Multiplication Result:\n",
      "[[0.2333263  0.23263561 0.44433604]\n",
      " [0.01346453 0.09206923 0.09366181]\n",
      " [0.00225002 0.31117884 0.13271988]]\n",
      "Dot Product Result:\n",
      "[[0.28765047 1.2049054  1.4846736 ]\n",
      " [0.05653109 0.22252978 0.28383387]\n",
      " [0.11107953 0.61749967 0.75288257]]\n"
     ]
    }
   ],
   "source": [
    "'''Q1. Create two 3×3 matrices using the random function in Numpy and perform the following operations.\n",
    " Product (prod)\n",
    " Multiplication (multiply)\n",
    " Dot Product (dot)'''\n",
    "\n",
    "\n",
    "import numpy as np\n",
    "\n",
    "# Create two random 3x3 matrices\n",
    "matrix1 = np.random.rand(3, 3)\n",
    "matrix2 = np.random.rand(3, 3)\n",
    "\n",
    "print(\"Matrix 1:\")\n",
    "print(matrix1)\n",
    "\n",
    "print(\"Matrix 2:\")\n",
    "print(matrix2)\n",
    "\n",
    "# Perform the requested operations\n",
    "product_result = np.prod(matrix1)\n",
    "multiplication_result = np.multiply(matrix1, matrix2)\n",
    "dot_product_result = np.dot(matrix1, matrix2)\n",
    "\n",
    "print(\"Product Result:\")\n",
    "print(product_result)\n",
    "\n",
    "print(\"Multiplication Result:\")\n",
    "print(multiplication_result)\n",
    "\n",
    "print(\"Dot Product Result:\")\n",
    "print(dot_product_result)\n"
   ]
  },
  {
   "cell_type": "code",
   "execution_count": 8,
   "metadata": {},
   "outputs": [
    {
     "name": "stdout",
     "output_type": "stream",
     "text": [
      "Union Result:\n",
      "[1 2 3 4 5 6 7]\n",
      "Intersection Result:\n",
      "[3 4 5]\n",
      "Set Difference Result (set1 - set2):\n",
      "[1 2]\n",
      "XOR (Symmetric Difference) Result:\n",
      "[1 2 6 7]\n"
     ]
    }
   ],
   "source": [
    "'''Q2. Perform the following set operations using the Numpy functions.\n",
    "è Union\n",
    "è Intersection\n",
    "è Set difference\n",
    "è XOR\n",
    "'''\n",
    "import numpy as np\n",
    "\n",
    "# Create two NumPy arrays to represent sets\n",
    "set1 = np.array([1, 2, 3, 4, 5])\n",
    "set2 = np.array([3, 4, 5, 6, 7])\n",
    "\n",
    "# Union\n",
    "union_result = np.union1d(set1, set2)\n",
    "print(\"Union Result:\")\n",
    "print(union_result)\n",
    "\n",
    "# Intersection\n",
    "intersection_result = np.intersect1d(set1, set2)\n",
    "print(\"Intersection Result:\")\n",
    "print(intersection_result)\n",
    "\n",
    "# Set Difference (set1 - set2)\n",
    "set_difference_result = np.setdiff1d(set1, set2)\n",
    "print(\"Set Difference Result (set1 - set2):\")\n",
    "print(set_difference_result)\n",
    "\n",
    "# XOR (Symmetric Difference)\n",
    "xor_result = np.setxor1d(set1, set2)\n",
    "print(\"XOR (Symmetric Difference) Result:\")\n",
    "print(xor_result)\n"
   ]
  },
  {
   "cell_type": "code",
   "execution_count": 9,
   "metadata": {},
   "outputs": [
    {
     "name": "stdout",
     "output_type": "stream",
     "text": [
      "Original Array:\n",
      "[0.62750001 0.66669792 0.48353932 0.19466011 0.5751654  0.04829884\n",
      " 0.95341591 0.45789676 0.10251576 0.19388719]\n",
      "Cumulative Sum:\n",
      "[0.62750001 1.29419793 1.77773725 1.97239736 2.54756275 2.5958616\n",
      " 3.54927751 4.00717427 4.10969003 4.30357722]\n",
      "Cumulative Product:\n",
      "[6.27500007e-01 4.18352950e-01 2.02290103e-01 3.93778129e-02\n",
      " 2.26487554e-02 1.09390871e-03 1.04294997e-03 4.77563411e-04\n",
      " 4.89577756e-05 9.49228573e-06]\n",
      "Discrete Difference (n=3):\n",
      "[ 0.11663589  0.77510513 -1.57675635  2.33935546 -2.83261985  1.54077439\n",
      "  0.30661427]\n",
      "Unique Elements:\n",
      "[0.04829884 0.10251576 0.19388719 0.19466011 0.45789676 0.48353932\n",
      " 0.5751654  0.62750001 0.66669792 0.95341591]\n"
     ]
    }
   ],
   "source": [
    "'''Q3. Create a 1D array using Random function and perform the following operations.\n",
    "è Cumulative sum\n",
    "è Cumulative Product\n",
    "è Discrete difference (with n=3)\n",
    "è Find the unique elements from the array'''\n",
    "\n",
    "\n",
    "import numpy as np\n",
    "\n",
    "# Create a random 1D array with 10 elements\n",
    "random_array = np.random.rand(10)\n",
    "\n",
    "print(\"Original Array:\")\n",
    "print(random_array)\n",
    "\n",
    "# Cumulative Sum\n",
    "cumulative_sum = np.cumsum(random_array)\n",
    "print(\"Cumulative Sum:\")\n",
    "print(cumulative_sum)\n",
    "\n",
    "# Cumulative Product\n",
    "cumulative_product = np.cumprod(random_array)\n",
    "print(\"Cumulative Product:\")\n",
    "print(cumulative_product)\n",
    "\n",
    "# Discrete Difference (with n=3)\n",
    "n = 3\n",
    "discrete_difference = np.diff(random_array, n=n)\n",
    "print(f\"Discrete Difference (n={n}):\")\n",
    "print(discrete_difference)\n",
    "\n",
    "# Find Unique Elements\n",
    "unique_elements = np.unique(random_array)\n",
    "print(\"Unique Elements:\")\n",
    "print(unique_elements)\n"
   ]
  },
  {
   "cell_type": "code",
   "execution_count": 10,
   "metadata": {},
   "outputs": [
    {
     "name": "stdout",
     "output_type": "stream",
     "text": [
      "Addition using zip():\n",
      "[7, 9, 11, 13, 15]\n",
      "Addition using numpy.add():\n",
      "[ 7  9 11 13 15]\n",
      "Addition using user-defined function (frompyfunc()):\n",
      "[7 9 11 13 15]\n"
     ]
    }
   ],
   "source": [
    "'''Q4. Create two 1D array and perform the Addition using zip(), add() and user defined function (frompyfunc())'''\n",
    "\n",
    "\n",
    "import numpy as np\n",
    "\n",
    "# Create two 1D arrays\n",
    "array1 = np.array([1, 2, 3, 4, 5])\n",
    "array2 = np.array([6, 7, 8, 9, 10])\n",
    "\n",
    "# Perform addition using zip()\n",
    "addition_zip = [x + y for x, y in zip(array1, array2)]\n",
    "print(\"Addition using zip():\")\n",
    "print(addition_zip)\n",
    "\n",
    "# Perform addition using numpy.add()\n",
    "addition_np = np.add(array1, array2)\n",
    "print(\"Addition using numpy.add():\")\n",
    "print(addition_np)\n",
    "\n",
    "# Define a user-defined addition function using numpy.frompyfunc()\n",
    "def custom_add(x, y):\n",
    "    return x + y\n",
    "\n",
    "addition_custom = np.frompyfunc(custom_add, 2, 1)(array1, array2)\n",
    "print(\"Addition using user-defined function (frompyfunc()):\")\n",
    "print(addition_custom)\n"
   ]
  },
  {
   "cell_type": "code",
   "execution_count": 11,
   "metadata": {},
   "outputs": [
    {
     "name": "stdout",
     "output_type": "stream",
     "text": [
      "Array: [12, 18, 24, 36]\n",
      "LCM of the elements: 72\n",
      "GCD of the elements: 6\n"
     ]
    }
   ],
   "source": [
    "'''Q5. Find the LCM (Least Common Multiple) and GCD (Greatest Common Divisor) of an array of elements using reduce().'''\n",
    "\n",
    "from functools import reduce\n",
    "import math\n",
    "\n",
    "# Define a function to find the LCM of two numbers\n",
    "def lcm(x, y):\n",
    "    return x * y // math.gcd(x, y)\n",
    "\n",
    "# Define a function to find the GCD of two numbers\n",
    "def gcd(x, y):\n",
    "    return math.gcd(x, y)\n",
    "\n",
    "# Example array of elements\n",
    "array = [12, 18, 24, 36]\n",
    "\n",
    "# Find the LCM of the elements in the array\n",
    "lcm_result = reduce(lcm, array)\n",
    "\n",
    "# Find the GCD of the elements in the array\n",
    "gcd_result = reduce(gcd, array)\n",
    "\n",
    "print(\"Array:\", array)\n",
    "print(\"LCM of the elements:\", lcm_result)\n",
    "print(\"GCD of the elements:\", gcd_result)\n"
   ]
  }
 ],
 "metadata": {
  "kernelspec": {
   "display_name": "Python 3",
   "language": "python",
   "name": "python3"
  },
  "language_info": {
   "codemirror_mode": {
    "name": "ipython",
    "version": 3
   },
   "file_extension": ".py",
   "mimetype": "text/x-python",
   "name": "python",
   "nbconvert_exporter": "python",
   "pygments_lexer": "ipython3",
   "version": "3.10.11"
  },
  "orig_nbformat": 4
 },
 "nbformat": 4,
 "nbformat_minor": 2
}
