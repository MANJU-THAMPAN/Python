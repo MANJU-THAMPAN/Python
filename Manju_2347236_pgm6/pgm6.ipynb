{
 "cells": [
  {
   "cell_type": "code",
   "execution_count": 7,
   "metadata": {},
   "outputs": [
    {
     "name": "stdout",
     "output_type": "stream",
     "text": [
      "Found phone number: 987-654-3210\n"
     ]
    }
   ],
   "source": [
    "#program1\n",
    "import re\n",
    "def find_phone_number(text):\n",
    "    pattern = re.compile(r'(\\(\\d{3}\\)-\\d{3}-\\d{4}|\\d{3}-\\d{3}-\\d{4})')\n",
    "    match = pattern.search(text)\n",
    "    if match:\n",
    "        return match.group()\n",
    "    else:\n",
    "        return \"No valid phone number found.\"\n",
    "input_text = \"Please contact me at 987-654-3210.\"\n",
    "phone_number = find_phone_number(input_text)\n",
    "print(\"Found phone number:\", phone_number)\n"
   ]
  },
  {
   "cell_type": "code",
   "execution_count": 14,
   "metadata": {},
   "outputs": [
    {
     "name": "stdout",
     "output_type": "stream",
     "text": [
      "Password is strong.\n"
     ]
    }
   ],
   "source": [
    "#program2\n",
    "import re\n",
    "def is_strong_password(password):\n",
    "    \n",
    "    if (\n",
    "        len(password) >= 8 and\n",
    "        re.search(r'[A-Z]', password) and\n",
    "        re.search(r'[a-z]', password) and\n",
    "        re.search(r'\\d', password) and\n",
    "        re.search(r'[!@#$%^&*()_+{}\\[\\]:;<>,.?~\\-]', password)\n",
    "    ):\n",
    "        return True\n",
    "    else:\n",
    "        return False\n",
    "password = \"Christ@123\"\n",
    "if is_strong_password(password):\n",
    "    print(\"Password is strong.\")\n",
    "else:\n",
    "    print(\"Password is not strong.\")\n"
   ]
  }
 ],
 "metadata": {
  "kernelspec": {
   "display_name": "Python 3",
   "language": "python",
   "name": "python3"
  },
  "language_info": {
   "codemirror_mode": {
    "name": "ipython",
    "version": 3
   },
   "file_extension": ".py",
   "mimetype": "text/x-python",
   "name": "python",
   "nbconvert_exporter": "python",
   "pygments_lexer": "ipython3",
   "version": "3.10.11"
  },
  "orig_nbformat": 4
 },
 "nbformat": 4,
 "nbformat_minor": 2
}
