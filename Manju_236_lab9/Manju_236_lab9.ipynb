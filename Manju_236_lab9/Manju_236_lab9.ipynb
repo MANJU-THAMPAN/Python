{
 "cells": [
  {
   "cell_type": "code",
   "execution_count": 3,
   "metadata": {},
   "outputs": [
    {
     "name": "stdout",
     "output_type": "stream",
     "text": [
      "1\n",
      "[2 3]\n",
      "[1 3]\n"
     ]
    }
   ],
   "source": [
    "#Q1.Array indexing and fancy indexing\n",
    "import numpy as np\n",
    "\n",
    "# Array Indexing\n",
    "arr = np.array([1, 2, 3, 4, 5])\n",
    "print(arr[0])  # Output: 1\n",
    "print(arr[1:3])  # Output: [2 3]\n",
    "\n",
    "# Fancy Indexing\n",
    "arr = np.array([1, 2, 3, 4, 5])\n",
    "print(arr[[0, 2]])  # Output: [1 3]"
   ]
  },
  {
   "cell_type": "code",
   "execution_count": 1,
   "metadata": {},
   "outputs": [
    {
     "name": "stdout",
     "output_type": "stream",
     "text": [
      "[[1 2]\n",
      " [4 5]]\n"
     ]
    }
   ],
   "source": [
    "#Q2.2D Array Slicing\n",
    "import numpy as np\n",
    "\n",
    "# create a 2D array\n",
    "arr = np.array([[1, 2, 3], [4, 5, 6], [7, 8, 9]])\n",
    "\n",
    "# slice the first two rows and the first two columns\n",
    "slice_arr = arr[:2, :2]\n",
    "\n",
    "print(slice_arr)"
   ]
  },
  {
   "cell_type": "code",
   "execution_count": 4,
   "metadata": {},
   "outputs": [
    {
     "name": "stdout",
     "output_type": "stream",
     "text": [
      "[[[[[ 1  2  3  4  5]\n",
      "    [ 6  7  8  9 10]\n",
      "    [11 12 13 14 15]]\n",
      "\n",
      "   [[16 17 18 19 20]\n",
      "    [21 22 23 24 25]\n",
      "    [26 27 28 29 30]]\n",
      "\n",
      "   [[31 32 33 34 35]\n",
      "    [36 37 38 39 40]\n",
      "    [41 42 43 44 45]]\n",
      "\n",
      "   [[46 47 48 49 50]\n",
      "    [51 52 53 54 55]\n",
      "    [56 57 58 59 60]]]]]\n"
     ]
    }
   ],
   "source": [
    "#Q3.5D array with ndim\n",
    "import numpy as np\n",
    "\n",
    "# create a 5D array with shape (1, 2, 3, 4, 5)\n",
    "arr = np.array([[[[[1, 2, 3, 4, 5],\n",
    "                   [6, 7, 8, 9, 10],\n",
    "                   [11, 12, 13, 14, 15]],\n",
    "                  [[16, 17, 18, 19, 20],\n",
    "                   [21, 22, 23, 24, 25],\n",
    "                   [26, 27, 28, 29, 30]],\n",
    "                  [[31, 32, 33, 34, 35],\n",
    "                   [36, 37, 38, 39, 40],\n",
    "                   [41, 42, 43, 44, 45]],\n",
    "                  [[46, 47, 48, 49, 50],\n",
    "                   [51, 52, 53, 54, 55],\n",
    "                   [56, 57, 58, 59, 60]]]]], ndmin=5)\n",
    "\n",
    "print(arr)"
   ]
  },
  {
   "cell_type": "code",
   "execution_count": 5,
   "metadata": {},
   "outputs": [
    {
     "name": "stdout",
     "output_type": "stream",
     "text": [
      "[[1 2 3]\n",
      " [4 5 6]]\n"
     ]
    }
   ],
   "source": [
    "#Q4. Reshape the array from 1-D to 2-D array. \n",
    "\n",
    "import numpy as np\n",
    "\n",
    "# 1-D array\n",
    "arr = np.array([1, 2, 3, 4, 5, 6])\n",
    "\n",
    "# Reshape to a 2-D array with 2 rows and 3 columns\n",
    "new_arr = np.reshape(arr, (2, 3))\n",
    "# or\n",
    "# new_arr = arr.reshape((2, 3))\n",
    "\n",
    "print(new_arr)"
   ]
  },
  {
   "cell_type": "code",
   "execution_count": 6,
   "metadata": {},
   "outputs": [
    {
     "name": "stdout",
     "output_type": "stream",
     "text": [
      "[[1 2 3]\n",
      " [4 5 6]\n",
      " [7 8 9]]\n",
      "[1 2 3 4 5 6 7 8 9]\n",
      "[[1 2 3]\n",
      " [4 5 6]\n",
      " [7 8 9]]\n",
      "[[[1 4 7]\n",
      "  [2 5 8]\n",
      "  [3 6 9]]]\n"
     ]
    }
   ],
   "source": [
    "#Q5. Perform the Stack functions in Numpy arrays – Stack(), hstack(), vstack(), and dstack().\n",
    "\n",
    "import numpy as np\n",
    "\n",
    "# Create some arrays to stack\n",
    "arr1 = np.array([1, 2, 3])\n",
    "arr2 = np.array([4, 5, 6])\n",
    "arr3 = np.array([7, 8, 9])\n",
    "\n",
    "# Stack the arrays using different functions\n",
    "stacked = np.stack((arr1, arr2, arr3))\n",
    "hstacked = np.hstack((arr1, arr2, arr3))\n",
    "vstacked = np.vstack((arr1, arr2, arr3))\n",
    "dstacked = np.dstack((arr1, arr2, arr3))\n",
    "\n",
    "# Print the stacked arrays\n",
    "print(stacked)\n",
    "print(hstacked)\n",
    "print(vstacked)\n",
    "print(dstacked)"
   ]
  },
  {
   "cell_type": "code",
   "execution_count": 7,
   "metadata": {},
   "outputs": [
    {
     "name": "stdout",
     "output_type": "stream",
     "text": [
      "[1 3 5 6 7 9]\n"
     ]
    }
   ],
   "source": [
    "#Q6. Perform the searchsort method in Numpy array. \n",
    "\n",
    "import numpy as np\n",
    "\n",
    "# Create a sorted array\n",
    "arr = np.array([1, 3, 5, 7, 9])\n",
    "\n",
    "# Search for the index where 6 should be inserted\n",
    "index = np.searchsorted(arr, 6)\n",
    "\n",
    "# Insert 6 into the array at the correct index\n",
    "arr = np.insert(arr, index, 6)\n",
    "\n",
    "# Print the sorted array with 6 inserted\n",
    "print(arr)"
   ]
  },
  {
   "cell_type": "code",
   "execution_count": 27,
   "metadata": {},
   "outputs": [
    {
     "name": "stdout",
     "output_type": "stream",
     "text": [
      "[('Fluffy', 'Cat', 3,  50.) ('Rex', 'Dog', 2, 100.)\n",
      " ('Nibbles', 'Hamster', 1,  10.) ('', '', 0,   0.) ('', '', 0,   0.)\n",
      " ('', '', 0,   0.) ('', '', 0,   0.) ('', '', 0,   0.) ('', '', 0,   0.)\n",
      " ('', '', 0,   0.)]\n"
     ]
    }
   ],
   "source": [
    "#Q7. Create Numpy Structured array using your domain features. \n",
    "\n",
    "import numpy as np\n",
    "\n",
    "# Define the structured array data type\n",
    "pet_dtype = np.dtype([\n",
    "    ('name', 'U20'),\n",
    "    ('species', 'U20'),\n",
    "    ('age', int),\n",
    "    ('price', float)\n",
    "])\n",
    "\n",
    "# Create an empty structured array with space for 10 pets\n",
    "pet_array = np.empty(10, dtype=pet_dtype)\n",
    "\n",
    "# Add data to the structured array\n",
    "pet_array[0] = ('Fluffy', 'Cat', 3, 50.0)\n",
    "pet_array[1] = ('Rex', 'Dog', 2, 100.0)\n",
    "pet_array[2] = ('Nibbles', 'Hamster', 1, 10.0)\n",
    "\n",
    "# Print the structured array\n",
    "print(pet_array)"
   ]
  },
  {
   "cell_type": "code",
   "execution_count": 35,
   "metadata": {},
   "outputs": [
    {
     "name": "stdout",
     "output_type": "stream",
     "text": [
      "      name  species  age  price\n",
      "0   Fluffy      Cat    3   50.0\n",
      "1      Rex      Dog    2  100.0\n",
      "2  Nibbles  Hamster    1   10.0\n",
      "      name  species  age  price\n",
      "0   Fluffy      Cat    3   50.0\n",
      "1      Rex      Dog    2  100.0\n",
      "2  Nibbles  Hamster    1   10.0\n"
     ]
    }
   ],
   "source": [
    "#Q8. Create Data frame using List and Dictionary. \n",
    "\n",
    "import pandas as pd\n",
    "\n",
    "# Create a list of dictionaries\n",
    "pets = [\n",
    "    {'name': 'Fluffy', 'species': 'Cat', 'age': 3, 'price': 50.0},\n",
    "    {'name': 'Rex', 'species': 'Dog', 'age': 2, 'price': 100.0},\n",
    "    {'name': 'Nibbles', 'species': 'Hamster', 'age': 1, 'price': 10.0}\n",
    "]\n",
    "\n",
    "# Create a DataFrame using pd.DataFrame()\n",
    "df1 = pd.DataFrame(pets)\n",
    "\n",
    "# Create a DataFrame using pd.DataFrame.from_dict()\n",
    "df2 = pd.DataFrame.from_dict(pets)\n",
    "\n",
    "# Print the resulting DataFrames\n",
    "print(df1)\n",
    "print(df2)"
   ]
  },
  {
   "cell_type": "code",
   "execution_count": 36,
   "metadata": {},
   "outputs": [
    {
     "name": "stdout",
     "output_type": "stream",
     "text": [
      "    name  species    age  price\n",
      "0  False    False  False  False\n",
      "1  False    False  False  False\n",
      "2  False    False  False  False\n",
      "3   True    False   True   True\n",
      "4  False    False  False  False\n",
      "    name  species    age  price\n",
      "0   True     True   True   True\n",
      "1   True     True   True   True\n",
      "2   True     True   True   True\n",
      "3  False     True  False  False\n",
      "4   True     True   True   True\n",
      "      name  species  age  price\n",
      "0   Fluffy      Cat  3.0   50.0\n",
      "1      Rex      Dog  2.0  100.0\n",
      "2  Nibbles  Hamster  1.0   10.0\n",
      "4    Buddy      Dog  5.0  200.0\n"
     ]
    }
   ],
   "source": [
    "#Q9. Create Data frame on your Domain area and perform the following operations to find and eliminate the  missing data from the dataset. \n",
    "\n",
    "import pandas as pd\n",
    "import numpy as np\n",
    "\n",
    "# Create a dictionary of pets\n",
    "pets = {\n",
    "    'name': ['Fluffy', 'Rex', 'Nibbles', np.nan, 'Buddy'],\n",
    "    'species': ['Cat', 'Dog', 'Hamster', 'Fish', 'Dog'],\n",
    "    'age': [3, 2, 1, np.nan, 5],\n",
    "    'price': [50.0, 100.0, 10.0, np.nan, 200.0]\n",
    "}\n",
    "\n",
    "# Create a DataFrame from the dictionary\n",
    "df = pd.DataFrame(pets)\n",
    "\n",
    "# Check for missing data\n",
    "print(df.isnull())\n",
    "\n",
    "# Check for non-missing data\n",
    "print(df.notnull())\n",
    "\n",
    "# Drop rows with missing data\n",
    "df = df.dropna()\n",
    "\n",
    "# Fill missing data with a value\n",
    "df = df.fillna(0)\n",
    "\n",
    "# Replace missing data with a value\n",
    "df = df.replace(np.nan, 0)\n",
    "\n",
    "# Interpolate missing data\n",
    "df = df.interpolate()\n",
    "\n",
    "# Print the resulting DataFrame\n",
    "print(df)"
   ]
  },
  {
   "cell_type": "code",
   "execution_count": 37,
   "metadata": {},
   "outputs": [
    {
     "name": "stdout",
     "output_type": "stream",
     "text": [
      "              name  species  age  price\n",
      "Kitten  1   Fluffy      Cat    3   50.0\n",
      "Puppy   2      Rex      Dog    2  100.0\n",
      "Hamster 3  Nibbles  Hamster    1   10.0\n",
      "Dog     4    Buddy      Dog    5  200.0\n"
     ]
    }
   ],
   "source": [
    "#Q10. Perform the Hierarchical Indexing in the above created dataset.  \n",
    "\n",
    "import pandas as pd\n",
    "\n",
    "# Create a dictionary of pets\n",
    "pets = {\n",
    "    'name': ['Fluffy', 'Rex', 'Nibbles', 'Buddy'],\n",
    "    'species': ['Cat', 'Dog', 'Hamster', 'Dog'],\n",
    "    'age': [3, 2, 1, 5],\n",
    "    'price': [50.0, 100.0, 10.0, 200.0]\n",
    "}\n",
    "\n",
    "# Create a DataFrame from the dictionary with hierarchical indexing\n",
    "df = pd.DataFrame(pets, index=[['Kitten', 'Puppy', 'Hamster', 'Dog'], [1, 2, 3, 4]])\n",
    "\n",
    "# Print the resulting DataFrame with hierarchical indexing\n",
    "print(df)"
   ]
  }
 ],
 "metadata": {
  "kernelspec": {
   "display_name": "Python 3",
   "language": "python",
   "name": "python3"
  },
  "language_info": {
   "codemirror_mode": {
    "name": "ipython",
    "version": 3
   },
   "file_extension": ".py",
   "mimetype": "text/x-python",
   "name": "python",
   "nbconvert_exporter": "python",
   "pygments_lexer": "ipython3",
   "version": "3.10.4"
  },
  "orig_nbformat": 4
 },
 "nbformat": 4,
 "nbformat_minor": 2
}
